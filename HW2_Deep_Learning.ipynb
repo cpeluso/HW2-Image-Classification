{
  "nbformat": 4,
  "nbformat_minor": 0,
  "metadata": {
    "colab": {
      "name": "HW2 - Deep Learning.ipynb",
      "provenance": [],
      "collapsed_sections": []
    },
    "kernelspec": {
      "name": "python3",
      "display_name": "Python 3"
    },
    "accelerator": "GPU"
  },
  "cells": [
    {
      "cell_type": "markdown",
      "metadata": {
        "id": "c9QcGnGPdX2C",
        "colab_type": "text"
      },
      "source": [
        "\n",
        "**Install requirements**"
      ]
    },
    {
      "cell_type": "code",
      "metadata": {
        "id": "k9O3aM3Tb28q",
        "colab_type": "code",
        "colab": {}
      },
      "source": [
        "!pip3 install 'torch==1.3.1'\n",
        "!pip3 install 'torchvision==0.5.0'\n",
        "!pip3 install 'Pillow-SIMD'\n",
        "!pip3 install 'tqdm'"
      ],
      "execution_count": 0,
      "outputs": []
    },
    {
      "cell_type": "markdown",
      "metadata": {
        "id": "fo942LMOdlh4",
        "colab_type": "text"
      },
      "source": [
        "**Import libraries**"
      ]
    },
    {
      "cell_type": "code",
      "metadata": {
        "id": "DokFOdD1dJEl",
        "colab_type": "code",
        "colab": {}
      },
      "source": [
        "import os\n",
        "import logging\n",
        "\n",
        "import torch\n",
        "import torch.nn as nn\n",
        "import torch.optim as optim\n",
        "from torch.utils.data import Subset, DataLoader\n",
        "from torch.backends import cudnn\n",
        "\n",
        "import torchvision\n",
        "from torchvision import transforms\n",
        "from torchvision.models import alexnet\n",
        "\n",
        "from PIL import Image\n",
        "from tqdm import tqdm\n",
        "\n",
        "import seaborn as sns\n",
        "import matplotlib.pyplot as plt"
      ],
      "execution_count": 0,
      "outputs": []
    },
    {
      "cell_type": "markdown",
      "metadata": {
        "id": "OIDLJuIXK_vh",
        "colab_type": "text"
      },
      "source": [
        "**Set Arguments**"
      ]
    },
    {
      "cell_type": "code",
      "metadata": {
        "id": "d5PkYfqfK_SA",
        "colab_type": "code",
        "colab": {}
      },
      "source": [
        "DEVICE = 'cuda' # 'cuda' or 'cpu'\n",
        "\n",
        "NUM_CLASSES = 102 # 101 + 1: There is an extra Background class that should be removed \n",
        "\n",
        "BATCH_SIZE = 256     # Higher batch sizes allows for larger learning rates. An empirical heuristic suggests that, when changing\n",
        "                     # the batch size, learning rate should change by the same factor to have comparable results\n",
        "\n",
        "LR = 0.001            # The initial Learning Rate\n",
        "MOMENTUM = 0.9       # Hyperparameter for SGD, keep this at 0.9 when using SGD\n",
        "WEIGHT_DECAY = 5e-5  # Regularization, you can keep this at the default\n",
        "\n",
        "NUM_EPOCHS = 30      # Total number of training epochs (iterations over dataset)\n",
        "STEP_SIZE = 20       # How many epochs before decreasing learning rate (if using a step-down policy)\n",
        "GAMMA = 0.1          # Multiplicative factor for learning rate step-down\n",
        "\n",
        "LOG_FREQUENCY = 10"
      ],
      "execution_count": 0,
      "outputs": []
    },
    {
      "cell_type": "markdown",
      "metadata": {
        "id": "9gwii0TBHvzh",
        "colab_type": "text"
      },
      "source": [
        "**Define Data Preprocessing**"
      ]
    },
    {
      "cell_type": "code",
      "metadata": {
        "id": "QUDdw4j2H0Mc",
        "colab_type": "code",
        "colab": {}
      },
      "source": [
        "# Define transforms for training phase\n",
        "train_transform = transforms.Compose([transforms.Resize(256),      # Resizes short size of the PIL image to 256\n",
        "                                      transforms.CenterCrop(224),  # Crops a central square patch of the image\n",
        "                                                                   # 224 because torchvision's AlexNet needs a 224x224 input!\n",
        "                                                                   # Remember this when applying different transformations, otherwise you get an error\n",
        "                                      transforms.ToTensor(), # Turn PIL Image to torch.Tensor\n",
        "                                      transforms.Normalize((0.5, 0.5, 0.5), (0.5, 0.5, 0.5)) # Normalizes tensor with mean and standard deviation\n",
        "])\n",
        "# Define transforms for the evaluation phase\n",
        "eval_transform = transforms.Compose([transforms.Resize(256),\n",
        "                                      transforms.CenterCrop(224),\n",
        "                                      transforms.ToTensor(),\n",
        "                                      transforms.Normalize((0.5, 0.5, 0.5), (0.5, 0.5, 0.5))                                    \n",
        "])"
      ],
      "execution_count": 0,
      "outputs": []
    },
    {
      "cell_type": "markdown",
      "metadata": {
        "id": "2qYIHPzYLY7i",
        "colab_type": "text"
      },
      "source": [
        "**Prepare Dataset**"
      ]
    },
    {
      "cell_type": "code",
      "metadata": {
        "id": "-2UikYtREVTF",
        "colab_type": "code",
        "colab": {}
      },
      "source": [
        "from torchvision.datasets import VisionDataset\n",
        "from random import shuffle, randint\n",
        "from PIL import Image\n",
        "import numpy as np\n",
        "import os\n",
        "import os.path\n",
        "import sys\n",
        "\n",
        "\n",
        "def pil_loader(path):\n",
        "    # open path as file to avoid ResourceWarning (https://github.com/python-pillow/Pillow/issues/835)\n",
        "    with open(path, 'rb') as f:\n",
        "        img = Image.open(f)\n",
        "        return img.convert('RGB')\n",
        "\n",
        "def get_index(annotations, tuple):\n",
        "  index = 0\n",
        "  for annotation in annotations:\n",
        "    if annotation == tuple:\n",
        "      return index\n",
        "    else:\n",
        "      index += 1\n",
        "\n",
        "class Caltech(VisionDataset):\n",
        "    def __init__(self, root, split='train', transform=None, target_transform=None):\n",
        "        super(Caltech, self).__init__(root, transform=transform, target_transform=target_transform)\n",
        "\n",
        "        file = open(\"./Caltech101/\" + split + \".txt\", \"r\")\n",
        "        annotations = file.readlines()\n",
        "\n",
        "        # This defines the split you are going to use\n",
        "        # (split files are called 'train.txt' and 'test.txt')\n",
        "        self.root = root\n",
        "        self.split = split \n",
        "        self.annotations = [annotation for annotation in annotations if \"BACKGROUND\" not in annotation]\n",
        "\n",
        "        classes = list(set([row.split(\"/\")[0] for row in self.annotations]))\n",
        "        class_index = 0\n",
        "        class_indices = {}\n",
        "\n",
        "        for class_string in classes:\n",
        "          class_indices[class_string] = class_index\n",
        "          class_index += 1\n",
        "\n",
        "        self.class_indices = class_indices\n",
        "\n",
        "        '''\n",
        "        - Here you should implement the logic for reading the splits files and accessing elements\n",
        "        - If the RAM size allows it, it is faster to store all data in memory\n",
        "        - PyTorch Dataset classes use indices to read elements\n",
        "        - You should provide a way for the __getitem__ method to access the image-label pair\n",
        "          through the index\n",
        "        - Labels should start from 0, so for Caltech you will have lables 0...100 (excluding the background class) \n",
        "        '''\n",
        "        pass\n",
        "\n",
        "    def train_eval_split(self):\n",
        "\n",
        "        if self.split != \"train\":\n",
        "          return _, _\n",
        "\n",
        "        # Get set of classes\n",
        "        labels = list(set([row.split(\"/\")[0] for row in self.annotations]))\n",
        "\n",
        "        train_indices = []\n",
        "        eval_indices = []\n",
        "\n",
        "        for label in labels:\n",
        "          # Get all samples of the current class\n",
        "          samples = np.array([sample for sample in self.annotations if sample.split(\"/\")[0] == label])\n",
        "          # Shuffle the data\n",
        "          shuffle(samples)\n",
        "\n",
        "          # Assign the same portion of data to train and evaluation set\n",
        "          length=len(samples)\n",
        "\n",
        "          if length % 2 != 0:\n",
        "            train_length = length/2 + randint(0,1)\n",
        "          else:\n",
        "            train_length = length/2\n",
        "\n",
        "          train_data = samples[: int(train_length)]\n",
        "          eval_data = samples[int(train_length):]\n",
        "\n",
        "          # Append partial indices\n",
        "          train_partial_indices = []\n",
        "          eval_partial_indices = []\n",
        "\n",
        "          for data in train_data:\n",
        "            train_partial_indices.append(get_index(self.annotations, data))\n",
        "\n",
        "          for data in eval_data:\n",
        "            eval_partial_indices.append(get_index(self.annotations, data))\n",
        "\n",
        "          train_indices.append(train_partial_indices)\n",
        "          eval_indices.append(eval_partial_indices)\n",
        "\n",
        "        # Flat out the lists of indices\n",
        "        train_indices = [item for sublist in train_indices for item in sublist]\n",
        "        eval_indices = [item for sublist in eval_indices for item in sublist]\n",
        "\n",
        "        return train_indices, eval_indices\n",
        "        pass\n",
        "\n",
        "    def __getitem__(self, index):\n",
        "        '''\n",
        "        __getitem__ should access an element through its index\n",
        "        Args:\n",
        "            index (int): Index\n",
        "\n",
        "        Returns:\n",
        "            tuple: (sample, target) where target is class_index of the target class.\n",
        "        '''\n",
        "        img_path = os.path.join(self.root, self.annotations[index].rstrip())\n",
        "        label = str(self.annotations[index]).split(\"/\")[0]\n",
        "        image = pil_loader(img_path)\n",
        "\n",
        "        # Applies preprocessing when accessing the image\n",
        "        if self.transform is not None:\n",
        "            image = self.transform(image)\n",
        "\n",
        "        return (image, torch.tensor(self.class_indices[label]))\n",
        "        pass\n",
        "\n",
        "    def __len__(self): \n",
        "        '''\n",
        "        The __len__ method returns the length of the dataset\n",
        "        It is mandatory, as this is used by several other components\n",
        "        '''\n",
        "        length = len(self.annotations)\n",
        "        return length\n",
        "        pass"
      ],
      "execution_count": 0,
      "outputs": []
    },
    {
      "cell_type": "code",
      "metadata": {
        "id": "QfVq_uDHLbsR",
        "colab_type": "code",
        "outputId": "7cccaab0-ae4b-4efe-beaf-c2a3f589c10c",
        "colab": {
          "base_uri": "https://localhost:8080/",
          "height": 69
        }
      },
      "source": [
        "# Clone github repository with data\n",
        "if not os.path.isdir('./Caltech101'):\n",
        "  !git clone https://github.com/MachineLearning2020/Homework2-Caltech101.git\n",
        "  !mv 'Homework2-Caltech101' 'Caltech101'\n",
        "\n",
        "DATA_DIR = 'Caltech101/101_ObjectCategories'\n",
        "#from Caltech101.caltech_dataset import Caltech\n",
        "\n",
        "# Prepare Pytorch train/test Datasets\n",
        "train_dataset = Caltech(DATA_DIR, split='train', transform=train_transform)\n",
        "test_dataset = Caltech(DATA_DIR, split='test', transform=eval_transform)\n",
        "\n",
        "# split the indices for your train split and eval split\n",
        "train_indexes, val_indexes = train_dataset.train_eval_split()\n",
        "\n",
        "val_dataset = Subset(train_dataset, val_indexes)\n",
        "train_dataset = Subset(train_dataset, train_indexes) \n",
        "\n",
        "# Check dataset sizes\n",
        "print('Train Dataset: {}'.format(len(train_dataset)))\n",
        "print('Valid Dataset: {}'.format(len(val_dataset)))\n",
        "print('Test Dataset: {}'.format(len(test_dataset)))"
      ],
      "execution_count": 29,
      "outputs": [
        {
          "output_type": "stream",
          "text": [
            "Train Dataset: 2893\n",
            "Valid Dataset: 2891\n",
            "Test Dataset: 2893\n"
          ],
          "name": "stdout"
        }
      ]
    },
    {
      "cell_type": "markdown",
      "metadata": {
        "id": "FYEDQ7Z21ldN",
        "colab_type": "text"
      },
      "source": [
        "**Prepare Dataloaders**"
      ]
    },
    {
      "cell_type": "code",
      "metadata": {
        "id": "VriRw8SI1nle",
        "colab_type": "code",
        "colab": {}
      },
      "source": [
        "# Dataloaders iterate over pytorch datasets and transparently provide useful functions (e.g. parallelization and shuffling)\n",
        "val_dataloader = DataLoader(val_dataset, batch_size=BATCH_SIZE, shuffle=False, num_workers=4)\n",
        "train_dataloader = DataLoader(train_dataset, batch_size=BATCH_SIZE, shuffle=True, num_workers=4, drop_last=True)\n",
        "test_dataloader = DataLoader(test_dataset, batch_size=BATCH_SIZE, shuffle=False, num_workers=4)"
      ],
      "execution_count": 0,
      "outputs": []
    },
    {
      "cell_type": "markdown",
      "metadata": {
        "id": "gbZ1t5Qs2z4j",
        "colab_type": "text"
      },
      "source": [
        "**Prepare Network**"
      ]
    },
    {
      "cell_type": "code",
      "metadata": {
        "id": "exHUjtXa22DN",
        "colab_type": "code",
        "colab": {}
      },
      "source": [
        "net = alexnet() # Loading AlexNet model\n",
        "\n",
        "# AlexNet has 1000 output neurons, corresponding to the 1000 ImageNet's classes\n",
        "# We need 101 outputs for Caltech-101\n",
        "net.classifier[6] = nn.Linear(4096, NUM_CLASSES) # nn.Linear in pytorch is a fully connected layer\n",
        "                                                 # The convolutional layer is nn.Conv2d\n",
        "\n",
        "# We just changed the last layer of AlexNet with a new fully connected layer with 101 outputs\n",
        "# It is strongly suggested to study torchvision.models.alexnet source code"
      ],
      "execution_count": 0,
      "outputs": []
    },
    {
      "cell_type": "markdown",
      "metadata": {
        "id": "KEyL3H_R4qCf",
        "colab_type": "text"
      },
      "source": [
        "**Prepare Training**"
      ]
    },
    {
      "cell_type": "code",
      "metadata": {
        "id": "9sjq00G94tSc",
        "colab_type": "code",
        "colab": {}
      },
      "source": [
        "# Define loss function\n",
        "criterion = nn.CrossEntropyLoss() # for classification, we use Cross Entropy\n",
        "\n",
        "# Choose parameters to optimize\n",
        "# To access a different set of parameters, you have to access submodules of AlexNet\n",
        "# (nn.Module objects, like AlexNet, implement the Composite Pattern)\n",
        "# e.g.: parameters of the fully connected layers: net.classifier.parameters()\n",
        "# e.g.: parameters of the convolutional layers: look at alexnet's source code ;) \n",
        "parameters_to_optimize = net.parameters() # In this case we optimize over all the parameters of AlexNet\n",
        "\n",
        "# Define optimizer\n",
        "# An optimizer updates the weights based on loss\n",
        "# We use SGD with momentum\n",
        "optimizer = optim.SGD(parameters_to_optimize, lr=LR, momentum=MOMENTUM, weight_decay=WEIGHT_DECAY)\n",
        "\n",
        "# Define scheduler\n",
        "# A scheduler dynamically changes learning rate\n",
        "# The most common schedule is the step(-down), which multiplies learning rate by gamma every STEP_SIZE epochs\n",
        "scheduler = optim.lr_scheduler.StepLR(optimizer, step_size=STEP_SIZE, gamma=GAMMA)"
      ],
      "execution_count": 0,
      "outputs": []
    },
    {
      "cell_type": "markdown",
      "metadata": {
        "id": "AxYUli9d9uYQ",
        "colab_type": "text"
      },
      "source": [
        "**Train Neural Network from scratch**\n"
      ]
    },
    {
      "cell_type": "code",
      "metadata": {
        "id": "MbqvUMU65pBI",
        "colab_type": "code",
        "colab": {}
      },
      "source": [
        "def evaluate_neural_network_on_validation_set(net):\n",
        "  net.train(False) # Set Network to evaluation mode\n",
        "\n",
        "  running_corrects = 0\n",
        "  for images, labels in val_dataloader:\n",
        "    images = images.to(DEVICE)\n",
        "    labels = labels.to(DEVICE)\n",
        "\n",
        "    # Forward Pass\n",
        "    outputs = net(images)\n",
        "\n",
        "    # Get predictions\n",
        "    _, preds = torch.max(outputs.data, 1)\n",
        "\n",
        "    # Update Corrects\n",
        "    running_corrects += torch.sum(preds == labels.data).data.item()\n",
        "\n",
        "  # Calculate Accuracy\n",
        "  accuracy = running_corrects / float(len(val_dataset))\n",
        "\n",
        "  print('Validation Accuracy: {}'.format(accuracy))\n",
        "\n",
        "  return accuracy"
      ],
      "execution_count": 0,
      "outputs": []
    },
    {
      "cell_type": "code",
      "metadata": {
        "id": "ZcoQ5fD49yT_",
        "colab_type": "code",
        "colab": {}
      },
      "source": [
        "# By default, everything is loaded to cpu\n",
        "net = net.to(DEVICE) # this will bring the network to GPU if DEVICE is cuda\n",
        "\n",
        "cudnn.benchmark # Calling this optimizes runtime\n",
        "\n",
        "current_step = 0\n",
        "# Start iterating over the epochs\n",
        "for epoch in range(NUM_EPOCHS):\n",
        "  print('Starting epoch {}/{}, LR = {}'.format(epoch+1, NUM_EPOCHS, scheduler.get_last_lr()))\n",
        "\n",
        "  # Iterate over the dataset\n",
        "  for images, labels in train_dataloader:\n",
        "    # Bring data over the device of choice\n",
        "    images = images.to(DEVICE)\n",
        "    labels = labels.to(DEVICE)\n",
        "\n",
        "    net.train() # Sets module in training mode\n",
        "\n",
        "    # PyTorch, by default, accumulates gradients after each backward pass\n",
        "    # We need to manually set the gradients to zero before starting a new iteration\n",
        "    optimizer.zero_grad() # Zero-ing the gradients\n",
        "\n",
        "    # Forward pass to the network\n",
        "    outputs = net(images)\n",
        "\n",
        "    # Compute loss based on output and ground truth\n",
        "    loss = criterion(outputs, labels)\n",
        "\n",
        "    # Log loss\n",
        "    if current_step % LOG_FREQUENCY == 0:\n",
        "      print('Step {}, Loss {}'.format(current_step, loss.item()))\n",
        "\n",
        "    # Compute gradients for each layer and update weights\n",
        "    loss.backward()  # backward pass: computes gradients\n",
        "    optimizer.step() # update weights based on accumulated gradients\n",
        "\n",
        "    current_step += 1\n",
        "\n",
        "  # Evaluate network on validation set\n",
        "  evaluate_neural_network_on_validation_set(net) \n",
        "\n",
        "  # Step the scheduler\n",
        "  scheduler.step()"
      ],
      "execution_count": 0,
      "outputs": []
    },
    {
      "cell_type": "markdown",
      "metadata": {
        "id": "YZQuIjXDwIQR",
        "colab_type": "text"
      },
      "source": [
        "**Train Neural Network from scratch with Hyperparameters Tuning**\n"
      ]
    },
    {
      "cell_type": "code",
      "metadata": {
        "id": "xjsp_a1lwULK",
        "colab_type": "code",
        "outputId": "2b5f6eb6-2b3c-4dac-dfcd-86769f9dacd8",
        "colab": {
          "base_uri": "https://localhost:8080/",
          "height": 1000
        }
      },
      "source": [
        "hyperparameters_sets = [\n",
        "                        (0.01, 15, 30),\n",
        "                        (0.01, 20, 60),\n",
        "                        (0.1, 15, 30),\n",
        "                        (0.1, 20, 40)\n",
        "]\n",
        "# (LR, STEP_SIZE, NUM_EPOCHS)\n",
        "\n",
        "accuracies = dict()\n",
        "net_accuracies = dict()\n",
        "\n",
        "for hyperparameter_set in hyperparameters_sets:\n",
        "  LR = hyperparameter_set[0]\n",
        "  STEP_SIZE = hyperparameter_set[1]\n",
        "  NUM_EPOCHS = hyperparameter_set[2]\n",
        "\n",
        "  accuracies[hyperparameter_set] = []\n",
        "\n",
        "  # Prepare Network\n",
        "\n",
        "  net = alexnet() # Loading AlexNet model\n",
        "\n",
        "  # AlexNet has 1000 output neurons, corresponding to the 1000 ImageNet's classes\n",
        "  # We need 101 outputs for Caltech-101\n",
        "  net.classifier[6] = nn.Linear(4096, NUM_CLASSES) # nn.Linear in pytorch is a fully connected layer\n",
        "                                                  # The convolutional layer is nn.Conv2d\n",
        "\n",
        "  # We just changed the last layer of AlexNet with a new fully connected layer with 101 outputs\n",
        "  # It is strongly suggested to study torchvision.models.alexnet source code\n",
        "\n",
        "  # Prepare Training\n",
        "\n",
        "  # Define loss function\n",
        "  criterion = nn.CrossEntropyLoss() # for classification, we use Cross Entropy\n",
        "\n",
        "  # Choose parameters to optimize\n",
        "  # To access a different set of parameters, you have to access submodules of AlexNet\n",
        "  # (nn.Module objects, like AlexNet, implement the Composite Pattern)\n",
        "  # e.g.: parameters of the fully connected layers: net.classifier.parameters()\n",
        "  # e.g.: parameters of the convolutional layers: look at alexnet's source code ;) \n",
        "  parameters_to_optimize = net.parameters() # In this case we optimize over all the parameters of AlexNet\n",
        "\n",
        "  # Define optimizer\n",
        "  # An optimizer updates the weights based on loss\n",
        "  # We use SGD with momentum\n",
        "  optimizer = optim.SGD(parameters_to_optimize, lr=LR, momentum=MOMENTUM, weight_decay=WEIGHT_DECAY)\n",
        "\n",
        "  # Define scheduler\n",
        "  # A scheduler dynamically changes learning rate\n",
        "  # The most common schedule is the step(-down), which multiplies learning rate by gamma every STEP_SIZE epochs\n",
        "  scheduler = optim.lr_scheduler.StepLR(optimizer, step_size=STEP_SIZE, gamma=GAMMA)\n",
        "\n",
        "  # By default, everything is loaded to cpu\n",
        "  net = net.to(DEVICE) # this will bring the network to GPU if DEVICE is cuda\n",
        "\n",
        "  cudnn.benchmark # Calling this optimizes runtime\n",
        "\n",
        "  current_step = 0\n",
        "  # Start iterating over the epochs\n",
        "  for epoch in range(NUM_EPOCHS):\n",
        "    print('Starting epoch {}/{}, LR = {}'.format(epoch+1, NUM_EPOCHS, scheduler.get_last_lr()))\n",
        "\n",
        "    # Iterate over the dataset\n",
        "    for images, labels in train_dataloader:\n",
        "      # Bring data over the device of choice\n",
        "      images = images.to(DEVICE)\n",
        "      labels = labels.to(DEVICE)\n",
        "\n",
        "      net.train() # Sets module in training mode\n",
        "\n",
        "      # PyTorch, by default, accumulates gradients after each backward pass\n",
        "      # We need to manually set the gradients to zero before starting a new iteration\n",
        "      optimizer.zero_grad() # Zero-ing the gradients\n",
        "\n",
        "      # Forward pass to the network\n",
        "      outputs = net(images)\n",
        "\n",
        "      # Compute loss based on output and ground truth\n",
        "      loss = criterion(outputs, labels)\n",
        "\n",
        "      # Log loss\n",
        "      if current_step % LOG_FREQUENCY == 0:\n",
        "        print('Step {}, Loss {}'.format(current_step, loss.item()))\n",
        "\n",
        "      # Compute gradients for each layer and update weights\n",
        "      loss.backward()  # backward pass: computes gradients\n",
        "      optimizer.step() # update weights based on accumulated gradients\n",
        "\n",
        "      current_step += 1\n",
        "\n",
        "    # Step the scheduler\n",
        "    scheduler.step()\n",
        "    \n",
        "    # Evaluate network on validation set\n",
        "    accuracy = evaluate_neural_network_on_validation_set(net) \n",
        "\n",
        "    accuracies[hyperparameter_set].append( (epoch, accuracy) )\n",
        "  \n",
        "  tuples = accuracies[hs]\n",
        "  results = [t[1] for t in tuples]\n",
        "  max_accuracy = max(results)\n",
        "  net_accuracies[net] = max_accuracy\n",
        "\n",
        "for hyperparameter_set in hyperparameters_sets:  \n",
        "  df = pd.DataFrame(accuracies[hyperparameter_set])\n",
        "  df = df.astype(int)\n",
        "  df.columns=['Epoch','Accuracy']\n",
        "\n",
        "  plt.figure()  \n",
        "  sns.lineplot(x='Epoch',y='Accuracy',data=df)\n",
        "\n",
        "print (net_accuracies)\n",
        "print (\n",
        "  [key for key, value in net_accuracies.items() \n",
        "  if value == max(net_accuracies.values())][0]\n",
        "  )"
      ],
      "execution_count": 0,
      "outputs": [
        {
          "output_type": "stream",
          "text": [
            "Starting epoch 1/30, LR = [0.01]\n",
            "Step 0, Loss 4.625697135925293\n",
            "Step 10, Loss 4.614241600036621\n",
            "Validation Accuracy: 0.09235558630231754\n",
            "Starting epoch 2/30, LR = [0.01]\n",
            "Step 20, Loss 4.594644546508789\n",
            "Validation Accuracy: 0.09270148737461086\n",
            "Starting epoch 3/30, LR = [0.01]\n",
            "Step 30, Loss 4.558844089508057\n",
            "Validation Accuracy: 0.10515392597717053\n",
            "Starting epoch 4/30, LR = [0.01]\n",
            "Step 40, Loss 4.468995094299316\n",
            "Validation Accuracy: 0.09200968523002422\n",
            "Starting epoch 5/30, LR = [0.01]\n",
            "Step 50, Loss 4.23920202255249\n",
            "Validation Accuracy: 0.09235558630231754\n",
            "Starting epoch 6/30, LR = [0.01]\n",
            "Step 60, Loss 4.1987810134887695\n",
            "Validation Accuracy: 0.09200968523002422\n",
            "Starting epoch 7/30, LR = [0.01]\n",
            "Step 70, Loss 4.253849983215332\n",
            "Validation Accuracy: 0.09927360774818401\n",
            "Starting epoch 8/30, LR = [0.01]\n",
            "Step 80, Loss 4.10988187789917\n",
            "Validation Accuracy: 0.11276374956762365\n",
            "Starting epoch 9/30, LR = [0.01]\n",
            "Step 90, Loss 4.177856922149658\n",
            "Validation Accuracy: 0.14804565894154273\n",
            "Starting epoch 10/30, LR = [0.01]\n",
            "Step 100, Loss 4.133935451507568\n",
            "Validation Accuracy: 0.18678657903839502\n",
            "Starting epoch 11/30, LR = [0.01]\n",
            "Step 110, Loss 3.9904205799102783\n",
            "Step 120, Loss 3.810943603515625\n",
            "Validation Accuracy: 0.19301279833967486\n",
            "Starting epoch 12/30, LR = [0.01]\n",
            "Step 130, Loss 4.020617485046387\n",
            "Validation Accuracy: 0.19889311656866138\n",
            "Starting epoch 13/30, LR = [0.01]\n",
            "Step 140, Loss 3.7274656295776367\n",
            "Validation Accuracy: 0.21895537876167417\n",
            "Starting epoch 14/30, LR = [0.01]\n",
            "Step 150, Loss 3.769399881362915\n",
            "Validation Accuracy: 0.22414389484607403\n",
            "Starting epoch 15/30, LR = [0.01]\n",
            "Step 160, Loss 3.804966449737549\n",
            "Validation Accuracy: 0.2338291248702871\n",
            "Starting epoch 16/30, LR = [0.001]\n",
            "Step 170, Loss 3.601459503173828\n",
            "Validation Accuracy: 0.2338291248702871\n",
            "Starting epoch 17/30, LR = [0.001]\n",
            "Step 180, Loss 3.643627643585205\n",
            "Validation Accuracy: 0.23694223452092703\n",
            "Starting epoch 18/30, LR = [0.001]\n",
            "Step 190, Loss 3.635352373123169\n",
            "Validation Accuracy: 0.24213075060532688\n",
            "Starting epoch 19/30, LR = [0.001]\n",
            "Step 200, Loss 3.6121985912323\n",
            "Validation Accuracy: 0.24524386025596678\n",
            "Starting epoch 20/30, LR = [0.001]\n",
            "Step 210, Loss 3.3999826908111572\n",
            "Validation Accuracy: 0.24524386025596678\n",
            "Starting epoch 21/30, LR = [0.001]\n",
            "Step 220, Loss 3.381009340286255\n",
            "Step 230, Loss 3.536860942840576\n",
            "Validation Accuracy: 0.24870287097890004\n",
            "Starting epoch 22/30, LR = [0.001]\n",
            "Step 240, Loss 3.392305612564087\n"
          ],
          "name": "stdout"
        }
      ]
    },
    {
      "cell_type": "markdown",
      "metadata": {
        "id": "UsHFI-GAJd69",
        "colab_type": "text"
      },
      "source": [
        "**Validation on Neural Network trained from scratch**"
      ]
    },
    {
      "cell_type": "code",
      "metadata": {
        "id": "zbFrBzhxHv3C",
        "colab_type": "code",
        "colab": {}
      },
      "source": [
        "net = [key for key, value in net_accuracies.items() if value == max(net_accuracies.values())][0]\n",
        "net = net.to(DEVICE) # this will bring the network to GPU if DEVICE is cuda\n",
        "net.train(False) # Set Network to evaluation mode\n",
        "\n",
        "running_corrects = 0\n",
        "for images, labels in tqdm(val_dataloader):\n",
        "  images = images.to(DEVICE)\n",
        "  labels = labels.to(DEVICE)\n",
        "\n",
        "  # Forward Pass\n",
        "  outputs = net(images)\n",
        "\n",
        "  # Get predictions\n",
        "  _, preds = torch.max(outputs.data, 1)\n",
        "\n",
        "  # Update Corrects\n",
        "  running_corrects += torch.sum(preds == labels.data).data.item()\n",
        "\n",
        "# Calculate Accuracy\n",
        "accuracy = running_corrects / float(len(val_dataset))\n",
        "\n",
        "print('Validation Accuracy: {}'.format(accuracy))"
      ],
      "execution_count": 0,
      "outputs": []
    },
    {
      "cell_type": "markdown",
      "metadata": {
        "id": "jxekmR745ySe",
        "colab_type": "text"
      },
      "source": [
        "**Test on Neural Network trained from scratch**"
      ]
    },
    {
      "cell_type": "code",
      "metadata": {
        "id": "fSHcUqLB5yWO",
        "colab_type": "code",
        "outputId": "6efebad4-940a-4c6f-e560-52e8e8fdd21e",
        "colab": {
          "base_uri": "https://localhost:8080/",
          "height": 52
        }
      },
      "source": [
        "net = net.to(DEVICE) # this will bring the network to GPU if DEVICE is cuda\n",
        "net.train(False) # Set Network to evaluation mode\n",
        "\n",
        "running_corrects = 0\n",
        "for images, labels in tqdm(test_dataloader):\n",
        "  images = images.to(DEVICE)\n",
        "  labels = labels.to(DEVICE)\n",
        "\n",
        "  # Forward Pass\n",
        "  outputs = net(images)\n",
        "\n",
        "  # Get predictions\n",
        "  _, preds = torch.max(outputs.data, 1)\n",
        "\n",
        "  # Update Corrects\n",
        "  running_corrects += torch.sum(preds == labels.data).data.item()\n",
        "\n",
        "# Calculate Accuracy\n",
        "accuracy = running_corrects / float(len(test_dataset))\n",
        "\n",
        "print('Test Accuracy: {}'.format(accuracy))"
      ],
      "execution_count": 0,
      "outputs": [
        {
          "output_type": "stream",
          "text": [
            "100%|██████████| 12/12 [00:10<00:00,  1.20it/s]"
          ],
          "name": "stderr"
        },
        {
          "output_type": "stream",
          "text": [
            "Test Accuracy: 0.29312132734185964\n"
          ],
          "name": "stdout"
        },
        {
          "output_type": "stream",
          "text": [
            "\n"
          ],
          "name": "stderr"
        }
      ]
    },
    {
      "cell_type": "markdown",
      "metadata": {
        "id": "tozQl80RF7we",
        "colab_type": "text"
      },
      "source": [
        "**Transfer Learning**"
      ]
    },
    {
      "cell_type": "code",
      "metadata": {
        "id": "QxigZgVOF8Gj",
        "colab_type": "code",
        "outputId": "02a015a9-4e81-435c-cfb8-6b6a6e67800f",
        "colab": {
          "base_uri": "https://localhost:8080/",
          "height": 236
        }
      },
      "source": [
        "import seaborn as sns\n",
        "import pandas as pd\n",
        "\n",
        "hyperparameters_sets = [\n",
        "                        (0.01, 15, 30),\n",
        "                        (0.01, 20, 60),\n",
        "                        (0.1, 15, 30),\n",
        "                        (0.1, 20, 40)\n",
        "]\n",
        "\n",
        "random_values = [\n",
        "  (1, 11),\n",
        "  (2, 12),\n",
        "  (3, 13),\n",
        "  (4, 14),\n",
        "  (5, 15),\n",
        "  (6, 16),\n",
        "  (7, 17),\n",
        "  (8, 18),\n",
        "  (9, 19),\n",
        "  (10, 20)\n",
        "]\n",
        "\n",
        "accuracies = dict()\n",
        "\n",
        "for hs in hyperparameters_sets:\n",
        "  accuracies[hs] = []\n",
        "\n",
        "  for val in random_values:\n",
        "    accuracies[hs].append(val)\n",
        "\n",
        "\n",
        "df = pd.DataFrame(accuracies[(0.01, 15, 30)])\n",
        "df = df.astype(int)\n",
        "df.columns=['Epoch','Accuracy']\n",
        "plt.figure()\n",
        "sns.lineplot(x='Epoch',y='Accuracy',data=df)\n",
        "\n",
        "\n"
      ],
      "execution_count": 24,
      "outputs": [
        {
          "output_type": "error",
          "ename": "NameError",
          "evalue": "ignored",
          "traceback": [
            "\u001b[0;31m---------------------------------------------------------------------------\u001b[0m",
            "\u001b[0;31mNameError\u001b[0m                                 Traceback (most recent call last)",
            "\u001b[0;32m<ipython-input-24-3095c764a4b8>\u001b[0m in \u001b[0;36m<module>\u001b[0;34m()\u001b[0m\n\u001b[1;32m     34\u001b[0m \u001b[0mdf\u001b[0m \u001b[0;34m=\u001b[0m \u001b[0mdf\u001b[0m\u001b[0;34m.\u001b[0m\u001b[0mastype\u001b[0m\u001b[0;34m(\u001b[0m\u001b[0mint\u001b[0m\u001b[0;34m)\u001b[0m\u001b[0;34m\u001b[0m\u001b[0;34m\u001b[0m\u001b[0m\n\u001b[1;32m     35\u001b[0m \u001b[0mdf\u001b[0m\u001b[0;34m.\u001b[0m\u001b[0mcolumns\u001b[0m\u001b[0;34m=\u001b[0m\u001b[0;34m[\u001b[0m\u001b[0;34m'Epoch'\u001b[0m\u001b[0;34m,\u001b[0m\u001b[0;34m'Accuracy'\u001b[0m\u001b[0;34m]\u001b[0m\u001b[0;34m\u001b[0m\u001b[0;34m\u001b[0m\u001b[0m\n\u001b[0;32m---> 36\u001b[0;31m \u001b[0mplt\u001b[0m\u001b[0;34m.\u001b[0m\u001b[0mfigure\u001b[0m\u001b[0;34m(\u001b[0m\u001b[0;34m)\u001b[0m\u001b[0;34m\u001b[0m\u001b[0;34m\u001b[0m\u001b[0m\n\u001b[0m\u001b[1;32m     37\u001b[0m \u001b[0msns\u001b[0m\u001b[0;34m.\u001b[0m\u001b[0mlineplot\u001b[0m\u001b[0;34m(\u001b[0m\u001b[0mx\u001b[0m\u001b[0;34m=\u001b[0m\u001b[0;34m'Epoch'\u001b[0m\u001b[0;34m,\u001b[0m\u001b[0my\u001b[0m\u001b[0;34m=\u001b[0m\u001b[0;34m'Accuracy'\u001b[0m\u001b[0;34m,\u001b[0m\u001b[0mdata\u001b[0m\u001b[0;34m=\u001b[0m\u001b[0mdf\u001b[0m\u001b[0;34m)\u001b[0m\u001b[0;34m\u001b[0m\u001b[0;34m\u001b[0m\u001b[0m\n\u001b[1;32m     38\u001b[0m \u001b[0;34m\u001b[0m\u001b[0m\n",
            "\u001b[0;31mNameError\u001b[0m: name 'plt' is not defined"
          ]
        }
      ]
    }
  ]
}