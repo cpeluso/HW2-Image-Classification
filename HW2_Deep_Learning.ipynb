{
  "nbformat": 4,
  "nbformat_minor": 0,
  "metadata": {
    "colab": {
      "name": "HW2 - Deep Learning.ipynb",
      "provenance": [],
      "collapsed_sections": [],
      "include_colab_link": true
    },
    "kernelspec": {
      "name": "python3",
      "display_name": "Python 3"
    },
    "accelerator": "GPU"
  },
  "cells": [
    {
      "cell_type": "markdown",
      "metadata": {
        "id": "view-in-github",
        "colab_type": "text"
      },
      "source": [
        "<a href=\"https://colab.research.google.com/github/cpeluso/HW2-Image-Classification/blob/master/HW2_Deep_Learning.ipynb\" target=\"_parent\"><img src=\"https://colab.research.google.com/assets/colab-badge.svg\" alt=\"Open In Colab\"/></a>"
      ]
    },
    {
      "cell_type": "markdown",
      "metadata": {
        "id": "c9QcGnGPdX2C",
        "colab_type": "text"
      },
      "source": [
        "\n",
        "**Install requirements**"
      ]
    },
    {
      "cell_type": "code",
      "metadata": {
        "id": "k9O3aM3Tb28q",
        "colab_type": "code",
        "colab": {}
      },
      "source": [
        "# !pip3 install 'torch==1.3.1'\n",
        "# !pip3 install 'torchvision==0.5.0'\n",
        "# !pip3 install 'Pillow-SIMD'\n",
        "# !pip3 install 'tqdm'\n",
        "!rm -rf HW2"
      ],
      "execution_count": 0,
      "outputs": []
    },
    {
      "cell_type": "markdown",
      "metadata": {
        "id": "fo942LMOdlh4",
        "colab_type": "text"
      },
      "source": [
        "**Import libraries**"
      ]
    },
    {
      "cell_type": "code",
      "metadata": {
        "id": "DokFOdD1dJEl",
        "colab_type": "code",
        "outputId": "e1477c42-3cc8-4b3c-f915-f9d40e6bb788",
        "colab": {
          "base_uri": "https://localhost:8080/",
          "height": 52
        }
      },
      "source": [
        "import os\n",
        "import logging\n",
        "\n",
        "import torch\n",
        "import torch.nn as nn\n",
        "import torch.optim as optim\n",
        "from torch.utils.data import Subset, DataLoader\n",
        "from torch.backends import cudnn\n",
        "\n",
        "import torchvision\n",
        "from torchvision import transforms\n",
        "from torchvision.models import alexnet\n",
        "\n",
        "from PIL import Image\n",
        "from tqdm import tqdm\n",
        "\n",
        "import seaborn as sns\n",
        "import matplotlib.pyplot as plt\n",
        "import pandas as pd\n",
        "\n",
        "from google.colab import output"
      ],
      "execution_count": 2,
      "outputs": [
        {
          "output_type": "stream",
          "text": [
            "/usr/local/lib/python3.6/dist-packages/statsmodels/tools/_testing.py:19: FutureWarning: pandas.util.testing is deprecated. Use the functions in the public API at pandas.testing instead.\n",
            "  import pandas.util.testing as tm\n"
          ],
          "name": "stderr"
        }
      ]
    },
    {
      "cell_type": "markdown",
      "metadata": {
        "id": "-oACxRANmDGJ",
        "colab_type": "text"
      },
      "source": [
        "**Define useful methods**"
      ]
    },
    {
      "cell_type": "code",
      "metadata": {
        "id": "FFpW5afCmDWw",
        "colab_type": "code",
        "colab": {}
      },
      "source": [
        "def load_default_parameters():\n",
        "  default_DEVICE = 'cuda'\n",
        "\n",
        "  default_NUM_CLASSES = 102 \n",
        "\n",
        "  default_BATCH_SIZE = 256 \n",
        "\n",
        "  default_LR = 0.001           \n",
        "  default_MOMENTUM = 0.9      \n",
        "  default_WEIGHT_DECAY = 5e-5  \n",
        "\n",
        "  default_NUM_EPOCHS = 30\n",
        "  default_STEP_SIZE = 20   \n",
        "  default_GAMMA = 0.1    \n",
        "\n",
        "  default_LOG_FREQUENCY = 10\n",
        "  return (default_DEVICE, default_NUM_CLASSES, default_BATCH_SIZE, default_LR, default_MOMENTUM, default_WEIGHT_DECAY, default_NUM_EPOCHS, default_STEP_SIZE, default_GAMMA, default_LOG_FREQUENCY)\n",
        "\n",
        "def load_alexnet_pretrained_transformations():\n",
        "  return (transforms.Compose([transforms.Resize(256),      # Resizes short size of the PIL image to 256\n",
        "                                      transforms.CenterCrop(224),  # Crops a central square patch of the image\n",
        "                                                                   # 224 because torchvision's AlexNet needs a 224x224 input!\n",
        "                                                                   # Remember this when applying different transformations, otherwise you get an error\n",
        "                                      transforms.ToTensor(), # Turn PIL Image to torch.Tensor\n",
        "                                      transforms.Normalize(mean=[0.485, 0.456, 0.406],\n",
        "                                                           std=[0.229, 0.224, 0.225]) # Normalizes tensor with mean and standard deviation\n",
        "         ]),\n",
        "         transforms.Compose([transforms.Resize(256),\n",
        "                                      transforms.CenterCrop(224),\n",
        "                                      transforms.ToTensor(),\n",
        "                                      transforms.Normalize(mean=[0.485, 0.456, 0.406],\n",
        "                                                          std=[0.229, 0.224, 0.225]) # Normalizes tensor with mean and standard deviation\n",
        "         ]))\n",
        "\n",
        "def load_hyperparameters_sets():\n",
        "  return [\n",
        "          (0.01, 15, 30),\n",
        "          (0.01, 30, 40),\n",
        "          (0.05, 15, 30)\n",
        "         ]\n",
        "\n",
        "def load_hyperparameters_sets_for_pretrained_net():\n",
        "  return [\n",
        "          (0.01, 15, 30),\n",
        "          (0.01, 30, 40),\n",
        "          (0.001, 25, 30)\n",
        "         ]\n",
        "\n",
        "def load_transformations_for_data_augmentation():\n",
        "  return \n",
        "\n",
        "# Function called every training epoch to evaluate the accuracy on the validation set\n",
        "\n",
        "def evaluate_neural_network_on_validation_set(net):\n",
        "  net.train(False) # Set Network to evaluation mode\n",
        "\n",
        "  running_corrects = 0\n",
        "  for images, labels in val_dataloader:\n",
        "    images = images.to(DEVICE)\n",
        "    labels = labels.to(DEVICE)\n",
        "\n",
        "    # Forward Pass\n",
        "    outputs = net(images)\n",
        "\n",
        "    # Get predictions\n",
        "    _, preds = torch.max(outputs.data, 1)\n",
        "\n",
        "    # Update Corrects\n",
        "    running_corrects += torch.sum(preds == labels.data).data.item()\n",
        "\n",
        "  # Calculate Accuracy\n",
        "  accuracy = running_corrects / float(len(val_dataset))\n",
        "\n",
        "  # print('Validation Accuracy: {}'.format(accuracy))\n",
        "  # print(\"\\n\")\n",
        "\n",
        "  return accuracy\n",
        "\n",
        "def plot_accuracies_and_losses(accuracies, losses, title = \"\"):\n",
        "  df = pd.DataFrame(accuracies)\n",
        "  df = df.astype(float)\n",
        "  df.columns=['Epoch','Accuracy']\n",
        "\n",
        "  plt.figure()  \n",
        "  sns.lineplot(x='Epoch',y='Accuracy',data=df).set_title(title)\n",
        "\n",
        "  df = pd.DataFrame(losses)\n",
        "  df = df.astype(float)\n",
        "  df.columns=['Epoch','Loss']\n",
        "\n",
        "  plt.figure()  \n",
        "  sns.lineplot(x='Epoch',y='Loss',data=df).set_title(title)\n",
        "  return"
      ],
      "execution_count": 0,
      "outputs": []
    },
    {
      "cell_type": "markdown",
      "metadata": {
        "id": "OIDLJuIXK_vh",
        "colab_type": "text"
      },
      "source": [
        "**Set Arguments**"
      ]
    },
    {
      "cell_type": "code",
      "metadata": {
        "id": "d5PkYfqfK_SA",
        "colab_type": "code",
        "colab": {}
      },
      "source": [
        "DEVICE = 'cuda' # 'cuda' or 'cpu'\n",
        "\n",
        "NUM_CLASSES = 102 # 101 + 1: There is an extra Background class that should be removed \n",
        "\n",
        "BATCH_SIZE = 256     # Higher batch sizes allows for larger learning rates. An empirical heuristic suggests that, when changing\n",
        "                     # the batch size, learning rate should change by the same factor to have comparable results\n",
        "\n",
        "LR = 0.001            # The initial Learning Rate\n",
        "MOMENTUM = 0.9       # Hyperparameter for SGD, keep this at 0.9 when using SGD\n",
        "WEIGHT_DECAY = 5e-5  # Regularization, you can keep this at the default\n",
        "\n",
        "NUM_EPOCHS = 30      # Total number of training epochs (iterations over dataset)\n",
        "STEP_SIZE = 20       # How many epochs before decreasing learning rate (if using a step-down policy)\n",
        "GAMMA = 0.1          # Multiplicative factor for learning rate step-down\n",
        "\n",
        "LOG_FREQUENCY = 10"
      ],
      "execution_count": 0,
      "outputs": []
    },
    {
      "cell_type": "markdown",
      "metadata": {
        "id": "9gwii0TBHvzh",
        "colab_type": "text"
      },
      "source": [
        "**Define Data Preprocessing**"
      ]
    },
    {
      "cell_type": "code",
      "metadata": {
        "id": "QUDdw4j2H0Mc",
        "colab_type": "code",
        "colab": {}
      },
      "source": [
        "# Define transforms for training phase\n",
        "train_transform = transforms.Compose([transforms.Resize(256),      # Resizes short size of the PIL image to 256\n",
        "                                      transforms.CenterCrop(224),  # Crops a central square patch of the image\n",
        "                                                                   # 224 because torchvision's AlexNet needs a 224x224 input!\n",
        "                                                                   # Remember this when applying different transformations, otherwise you get an error\n",
        "                                      transforms.ToTensor(), # Turn PIL Image to torch.Tensor\n",
        "                                      transforms.Normalize((0.5, 0.5, 0.5), (0.5, 0.5, 0.5)) # Normalizes tensor with mean and standard deviation\n",
        "])\n",
        "# Define transforms for the evaluation phase\n",
        "eval_transform = transforms.Compose([transforms.Resize(256),\n",
        "                                      transforms.CenterCrop(224),\n",
        "                                      transforms.ToTensor(),\n",
        "                                      transforms.Normalize((0.5, 0.5, 0.5), (0.5, 0.5, 0.5))                                    \n",
        "])"
      ],
      "execution_count": 0,
      "outputs": []
    },
    {
      "cell_type": "markdown",
      "metadata": {
        "id": "2qYIHPzYLY7i",
        "colab_type": "text"
      },
      "source": [
        "**Prepare Dataset**"
      ]
    },
    {
      "cell_type": "code",
      "metadata": {
        "id": "QfVq_uDHLbsR",
        "colab_type": "code",
        "outputId": "75a47ef2-2c72-43fa-b877-28e028029bef",
        "colab": {
          "base_uri": "https://localhost:8080/",
          "height": 69
        }
      },
      "source": [
        "# Clone github repository with data\n",
        "if not os.path.isdir('./Caltech101'):\n",
        "  !git clone https://github.com/MachineLearning2020/Homework2-Caltech101.git\n",
        "  !mv 'Homework2-Caltech101' 'Caltech101'\n",
        "\n",
        "# Clone personal github repository with the custom caltech dataset\n",
        "if not os.path.isdir('./HW2'):\n",
        "  !git clone https://github.com/cpeluso/HW2-Image-Classification.git\n",
        "  !mv 'HW2-Image-Classification' 'HW2'\n",
        "\n",
        "from HW2.caltech_dataset import Caltech\n",
        "DATA_DIR = 'Caltech101/101_ObjectCategories'\n",
        "\n",
        "# Prepare Pytorch train/test Datasets\n",
        "train_dataset = Caltech(DATA_DIR, split='train', transform=train_transform)\n",
        "test_dataset = Caltech(DATA_DIR, split='test', transform=eval_transform)\n",
        "\n",
        "# split the indices for your train split and eval split\n",
        "train_indexes, val_indexes = train_dataset.train_eval_split()\n",
        "\n",
        "val_dataset = Subset(train_dataset, val_indexes)\n",
        "train_dataset = Subset(train_dataset, train_indexes) \n",
        "\n",
        "output.clear()\n",
        "\n",
        "# Check dataset sizes\n",
        "print('Train Dataset: {}'.format(len(train_dataset)))\n",
        "print('Valid Dataset: {}'.format(len(val_dataset)))\n",
        "print('Test Dataset: {}'.format(len(test_dataset)))"
      ],
      "execution_count": 6,
      "outputs": [
        {
          "output_type": "stream",
          "text": [
            "Train Dataset: 2890\n",
            "Valid Dataset: 2894\n",
            "Test Dataset: 2893\n"
          ],
          "name": "stdout"
        }
      ]
    },
    {
      "cell_type": "markdown",
      "metadata": {
        "id": "FYEDQ7Z21ldN",
        "colab_type": "text"
      },
      "source": [
        "**Prepare Dataloaders**"
      ]
    },
    {
      "cell_type": "code",
      "metadata": {
        "id": "VriRw8SI1nle",
        "colab_type": "code",
        "colab": {}
      },
      "source": [
        "# Dataloaders iterate over pytorch datasets and transparently provide useful functions (e.g. parallelization and shuffling)\n",
        "val_dataloader = DataLoader(val_dataset, batch_size=BATCH_SIZE, shuffle=False, num_workers=4)\n",
        "train_dataloader = DataLoader(train_dataset, batch_size=BATCH_SIZE, shuffle=True, num_workers=4, drop_last=True)\n",
        "test_dataloader = DataLoader(test_dataset, batch_size=BATCH_SIZE, shuffle=False, num_workers=4)"
      ],
      "execution_count": 0,
      "outputs": []
    },
    {
      "cell_type": "markdown",
      "metadata": {
        "id": "gbZ1t5Qs2z4j",
        "colab_type": "text"
      },
      "source": [
        "**Prepare Network**"
      ]
    },
    {
      "cell_type": "code",
      "metadata": {
        "id": "exHUjtXa22DN",
        "colab_type": "code",
        "colab": {}
      },
      "source": [
        "net = alexnet() # Loading AlexNet model\n",
        "\n",
        "# AlexNet has 1000 output neurons, corresponding to the 1000 ImageNet's classes\n",
        "# We need 101 outputs for Caltech-101\n",
        "net.classifier[6] = nn.Linear(4096, NUM_CLASSES) # nn.Linear in pytorch is a fully connected layer\n",
        "                                                 # The convolutional layer is nn.Conv2d\n",
        "\n",
        "# We just changed the last layer of AlexNet with a new fully connected layer with 101 outputs\n",
        "# It is strongly suggested to study torchvision.models.alexnet source code"
      ],
      "execution_count": 0,
      "outputs": []
    },
    {
      "cell_type": "markdown",
      "metadata": {
        "id": "KEyL3H_R4qCf",
        "colab_type": "text"
      },
      "source": [
        "**Prepare Training**"
      ]
    },
    {
      "cell_type": "code",
      "metadata": {
        "id": "9sjq00G94tSc",
        "colab_type": "code",
        "colab": {}
      },
      "source": [
        "# Define loss function\n",
        "criterion = nn.CrossEntropyLoss() # for classification, we use Cross Entropy\n",
        "\n",
        "# Choose parameters to optimize\n",
        "# To access a different set of parameters, you have to access submodules of AlexNet\n",
        "# (nn.Module objects, like AlexNet, implement the Composite Pattern)\n",
        "# e.g.: parameters of the fully connected layers: net.classifier.parameters()\n",
        "# e.g.: parameters of the convolutional layers: look at alexnet's source code ;) \n",
        "parameters_to_optimize = net.parameters() # In this case we optimize over all the parameters of AlexNet\n",
        "\n",
        "# Define optimizer\n",
        "# An optimizer updates the weights based on loss\n",
        "# We use SGD with momentum\n",
        "optimizer = optim.SGD(parameters_to_optimize, lr=LR, momentum=MOMENTUM, weight_decay=WEIGHT_DECAY)\n",
        "\n",
        "# Define scheduler\n",
        "# A scheduler dynamically changes learning rate\n",
        "# The most common schedule is the step(-down), which multiplies learning rate by gamma every STEP_SIZE epochs\n",
        "scheduler = optim.lr_scheduler.StepLR(optimizer, step_size=STEP_SIZE, gamma=GAMMA)"
      ],
      "execution_count": 0,
      "outputs": []
    },
    {
      "cell_type": "markdown",
      "metadata": {
        "id": "AxYUli9d9uYQ",
        "colab_type": "text"
      },
      "source": [
        "**Train Neural Network from scratch**\n"
      ]
    },
    {
      "cell_type": "code",
      "metadata": {
        "id": "ZcoQ5fD49yT_",
        "colab_type": "code",
        "colab": {
          "base_uri": "https://localhost:8080/",
          "height": 69
        },
        "outputId": "a63d841e-8732-40f6-d6e0-4600069b4f02"
      },
      "source": [
        "# By default, everything is loaded to cpu\n",
        "net = net.to(DEVICE) # this will bring the network to GPU if DEVICE is cuda\n",
        "\n",
        "accuracies = []\n",
        "losses = []\n",
        "\n",
        "cudnn.benchmark # Calling this optimizes runtime\n",
        "\n",
        "current_step = 0\n",
        "# Start iterating over the epochs\n",
        "for epoch in range(NUM_EPOCHS):\n",
        "  print('Starting epoch {}/{}, LR = {}'.format(epoch+1, NUM_EPOCHS, scheduler.get_last_lr()))\n",
        "\n",
        "  # Iterate over the dataset\n",
        "  for images, labels in train_dataloader:\n",
        "    # Bring data over the device of choice\n",
        "    images = images.to(DEVICE)\n",
        "    labels = labels.to(DEVICE)\n",
        "\n",
        "    net.train() # Sets module in training mode\n",
        "\n",
        "    # PyTorch, by default, accumulates gradients after each backward pass\n",
        "    # We need to manually set the gradients to zero before starting a new iteration\n",
        "    optimizer.zero_grad() # Zero-ing the gradients\n",
        "\n",
        "    # Forward pass to the network\n",
        "    outputs = net(images)\n",
        "\n",
        "    # Compute loss based on output and ground truth\n",
        "    loss = criterion(outputs, labels)\n",
        "\n",
        "    # Compute gradients for each layer and update weights\n",
        "    loss.backward()  # backward pass: computes gradients\n",
        "    optimizer.step() # update weights based on accumulated gradients\n",
        "\n",
        "    current_step += 1\n",
        "\n",
        "  # Evaluate network on validation set\n",
        "  accuracy = evaluate_neural_network_on_validation_set(net) \n",
        "  accuracies.append( (epoch, accuracy) )\n",
        "  losses.append( (epoch, loss) )\n",
        "\n",
        "  # Step the scheduler\n",
        "  scheduler.step()\n",
        "\n",
        "output.clear()\n",
        "plot_accuracies_and_losses(accuracies, losses)"
      ],
      "execution_count": 0,
      "outputs": [
        {
          "output_type": "stream",
          "text": [
            "Starting epoch 1/30, LR = [0.001]\n",
            "Starting epoch 2/30, LR = [0.001]\n",
            "Starting epoch 3/30, LR = [0.001]\n"
          ],
          "name": "stdout"
        }
      ]
    },
    {
      "cell_type": "markdown",
      "metadata": {
        "id": "YZQuIjXDwIQR",
        "colab_type": "text"
      },
      "source": [
        "**Train Neural Network from scratch with Hyperparameters Tuning**\n"
      ]
    },
    {
      "cell_type": "code",
      "metadata": {
        "id": "xjsp_a1lwULK",
        "colab_type": "code",
        "colab": {}
      },
      "source": [
        "# Restore default parameters\n",
        "DEVICE, NUM_CLASSES, BATCH_SIZE, LR, MOMENTUM, WEIGHT_DECAY, NUM_EPOCHS, STEP_SIZE, GAMMA, LOG_FREQUENCY = load_default_parameters()\n",
        "\n",
        "# Load sets of hyperparameters\n",
        "# (LR, STEP_SIZE, NUM_EPOCHS)\n",
        "hyperparameters_sets = load_hyperparameters_sets()\n",
        "\n",
        "# Define structures for accuracies and losses\n",
        "accuracies = dict()\n",
        "losses = dict()\n",
        "nets_best_accuracy = dict()\n",
        "\n",
        "for hyperparameter_set in hyperparameters_sets:\n",
        "  # Set LR, STEP_SIZE and NUM_EPOCHS \n",
        "  LR = hyperparameter_set[0]\n",
        "  STEP_SIZE = hyperparameter_set[1]\n",
        "  NUM_EPOCHS = hyperparameter_set[2]\n",
        "\n",
        "  # Initialize structures for accuracies and losses\n",
        "  print(\"\\nHyperparameter set:\")\n",
        "  print(hyperparameter_set)\n",
        "  accuracies[hyperparameter_set] = []\n",
        "  losses[hyperparameter_set] = []\n",
        "  \n",
        "  # Prepare Network\n",
        "  net = alexnet() \n",
        "  net.classifier[6] = nn.Linear(4096, NUM_CLASSES) \n",
        "\n",
        "  # Prepare Training\n",
        "  criterion = nn.CrossEntropyLoss() \n",
        "  parameters_to_optimize = net.parameters() \n",
        "  optimizer = optim.SGD(parameters_to_optimize, lr=LR, momentum=MOMENTUM, weight_decay=WEIGHT_DECAY)\n",
        "  scheduler = optim.lr_scheduler.StepLR(optimizer, step_size=STEP_SIZE, gamma=GAMMA)\n",
        "  net = net.to(DEVICE) \n",
        "\n",
        "  cudnn.benchmark \n",
        "\n",
        "  current_step = 0\n",
        "  best_accuracy = float(0)\n",
        "  filename = \"model_\" + str(LR).replace(\".\", \"\") + str(STEP_SIZE) + str(NUM_EPOCHS) +\".pth\"\n",
        "\n",
        "  for epoch in range(NUM_EPOCHS):\n",
        "    print('Starting epoch {}/{}, LR = {}'.format(epoch+1, NUM_EPOCHS, scheduler.get_last_lr()))\n",
        "\n",
        "    for images, labels in train_dataloader:\n",
        "\n",
        "      images = images.to(DEVICE)\n",
        "      labels = labels.to(DEVICE)\n",
        "\n",
        "      net.train()\n",
        "      optimizer.zero_grad()\n",
        "      outputs = net(images)\n",
        "      loss = criterion(outputs, labels)\n",
        "      loss.backward()  \n",
        "      optimizer.step() \n",
        "      current_step += 1\n",
        "\n",
        "    scheduler.step()\n",
        "    \n",
        "    # Evaluate network on validation set, save accuracy and loss\n",
        "    accuracy = evaluate_neural_network_on_validation_set(net) \n",
        "    accuracies[hyperparameter_set].append( (epoch, accuracy) )\n",
        "    losses[hyperparameter_set].append( (epoch, loss.item()))\n",
        "    \n",
        "    # Save the model if this epoch produced the best accuracy value on validation set\n",
        "    if accuracy > best_accuracy:\n",
        "      torch.save(net.state_dict(), filename)\n",
        "      nets_best_accuracy[hyperparameter_set] = (epoch, accuracy, filename)\n",
        "      best_accuracy = accuracy\n",
        "\n",
        "  output.clear()\n",
        "\n",
        "# Plot results\n",
        "for hyperparameter_set in hyperparameters_sets:\n",
        "  plot_accuracies_and_losses(accuracies[hyperparameter_set],losses[hyperparameter_set], \n",
        "                             \"LR = \" + hyperparameter_set[0] + \", \" + \n",
        "                             \"STEP_SIZE = \" + hyperparameter_set[1] + \", \" + \n",
        "                             \"NUM_EPOCHS = \" + hyperparameter_set[2])\n"
      ],
      "execution_count": 0,
      "outputs": []
    },
    {
      "cell_type": "markdown",
      "metadata": {
        "id": "UsHFI-GAJd69",
        "colab_type": "text"
      },
      "source": [
        "**Validation on Neural Network trained from scratch**"
      ]
    },
    {
      "cell_type": "code",
      "metadata": {
        "id": "zbFrBzhxHv3C",
        "colab_type": "code",
        "colab": {}
      },
      "source": [
        "# Get best model found at its best epoch\n",
        "max_acc = 0\n",
        "max_acc_model_filename = \"\"\n",
        "for k in nets_best_accuracy:\n",
        "  if nets_best_accuracy[k][1] > max_acc:\n",
        "    max_acc = nets_best_accuracy[k][1]\n",
        "    max_acc_model_filename = nets_best_accuracy[k][2]\n",
        "\n",
        "net = alexnet()\n",
        "net.classifier[6] = nn.Linear(4096, NUM_CLASSES) \n",
        "net.load_state_dict(torch.load(max_acc_model_filename))\n",
        "\n",
        "net = net.to(DEVICE) # this will bring the network to GPU if DEVICE is cuda\n",
        "net.train(False) # Set Network to evaluation mode\n",
        "\n",
        "running_corrects = 0\n",
        "for images, labels in tqdm(val_dataloader):\n",
        "  images = images.to(DEVICE)\n",
        "  labels = labels.to(DEVICE)\n",
        "\n",
        "  # Forward Pass\n",
        "  outputs = net(images)\n",
        "\n",
        "  # Get predictions\n",
        "  _, preds = torch.max(outputs.data, 1)\n",
        "\n",
        "  # Update Corrects\n",
        "  running_corrects += torch.sum(preds == labels.data).data.item()\n",
        "\n",
        "# Calculate Accuracy\n",
        "accuracy = running_corrects / float(len(val_dataset))\n",
        "\n",
        "output.clear()\n",
        "print('\\nValidation Accuracy: {}'.format(accuracy))"
      ],
      "execution_count": 0,
      "outputs": []
    },
    {
      "cell_type": "markdown",
      "metadata": {
        "id": "jxekmR745ySe",
        "colab_type": "text"
      },
      "source": [
        "**Test on Neural Network trained from scratch**"
      ]
    },
    {
      "cell_type": "code",
      "metadata": {
        "id": "fSHcUqLB5yWO",
        "colab_type": "code",
        "colab": {}
      },
      "source": [
        "net = net.to(DEVICE) # this will bring the network to GPU if DEVICE is cuda\n",
        "net.train(False) # Set Network to evaluation mode\n",
        "\n",
        "running_corrects = 0\n",
        "for images, labels in tqdm(test_dataloader):\n",
        "  images = images.to(DEVICE)\n",
        "  labels = labels.to(DEVICE)\n",
        "\n",
        "  # Forward Pass\n",
        "  outputs = net(images)\n",
        "\n",
        "  # Get predictions\n",
        "  _, preds = torch.max(outputs.data, 1)\n",
        "\n",
        "  # Update Corrects\n",
        "  running_corrects += torch.sum(preds == labels.data).data.item()\n",
        "\n",
        "# Calculate Accuracy\n",
        "accuracy = running_corrects / float(len(test_dataset))\n",
        "\n",
        "output.clear()\n",
        "print('\\nTest Accuracy: {}'.format(accuracy))"
      ],
      "execution_count": 0,
      "outputs": []
    },
    {
      "cell_type": "markdown",
      "metadata": {
        "id": "tozQl80RF7we",
        "colab_type": "text"
      },
      "source": [
        "**Transfer Learning - AlexNet pretrained with hyperparameters tuning**"
      ]
    },
    {
      "cell_type": "code",
      "metadata": {
        "id": "QxigZgVOF8Gj",
        "colab_type": "code",
        "colab": {}
      },
      "source": [
        "DEVICE, NUM_CLASSES, BATCH_SIZE, LR, MOMENTUM, WEIGHT_DECAY, NUM_EPOCHS, STEP_SIZE, GAMMA, LOG_FREQUENCY = load_default_parameters()\n",
        "\n",
        "# Load sets of hyperparameters\n",
        "# (LR, STEP_SIZE, NUM_EPOCHS)\n",
        "hyperparameters_sets = load_hyperparameters_sets_for_pretrained_net()\n",
        "\n",
        "train_transform, eval_transform = load_alexnet_pretrained_transformations()\n",
        "\n",
        "# Define structures for accuracies and losses\n",
        "accuracies = dict()\n",
        "losses = dict()\n",
        "nets_best_accuracy = dict()\n",
        "\n",
        "for hyperparameter_set in hyperparameters_sets:\n",
        "  # Set LR, STEP_SIZE and NUM_EPOCHS \n",
        "  LR = hyperparameter_set[0]\n",
        "  STEP_SIZE = hyperparameter_set[1]\n",
        "  NUM_EPOCHS = hyperparameter_set[2]\n",
        "\n",
        "  # Initialize structures for accuracies and losses\n",
        "  print(\"\\n Hyperparameter set:\")\n",
        "  print(hyperparameter_set)\n",
        "  accuracies[hyperparameter_set] = []\n",
        "  losses[hyperparameter_set] = []\n",
        "  \n",
        "  # Prepare Network\n",
        "  net = alexnet(pretrained=True)\n",
        "  net.classifier[6] = nn.Linear(4096, NUM_CLASSES) \n",
        "\n",
        "  # Prepare Training\n",
        "  criterion = nn.CrossEntropyLoss()\n",
        "  parameters_to_optimize = net.parameters() \n",
        "  optimizer = optim.SGD(parameters_to_optimize, lr=LR, momentum=MOMENTUM, weight_decay=WEIGHT_DECAY)\n",
        "  scheduler = optim.lr_scheduler.StepLR(optimizer, step_size=STEP_SIZE, gamma=GAMMA)\n",
        "  net = net.to(DEVICE)\n",
        "\n",
        "  cudnn.benchmark \n",
        "\n",
        "  current_step = 0\n",
        "  best_accuracy = float(0)\n",
        "  filename = \"model_\" + str(LR).replace(\".\", \"\") + str(STEP_SIZE) + str(NUM_EPOCHS) +\".pth\"\n",
        "\n",
        "  for epoch in range(NUM_EPOCHS):\n",
        "    print('Starting epoch {}/{}, LR = {}'.format(epoch+1, NUM_EPOCHS, scheduler.get_last_lr()))\n",
        "\n",
        "    for images, labels in train_dataloader:\n",
        "\n",
        "      images = images.to(DEVICE)\n",
        "      labels = labels.to(DEVICE)\n",
        "\n",
        "      net.train()\n",
        "      optimizer.zero_grad()\n",
        "      outputs = net(images)\n",
        "      loss = criterion(outputs, labels)\n",
        "      loss.backward()  \n",
        "      optimizer.step() \n",
        "      current_step += 1\n",
        "\n",
        "    scheduler.step()\n",
        "\n",
        "    # Evaluate network on validation set, save accuracy and loss\n",
        "    accuracy = evaluate_neural_network_on_validation_set(net) \n",
        "    accuracies[hyperparameter_set].append( (epoch, accuracy) )\n",
        "    losses[hyperparameter_set].append( (epoch, loss.item()))\n",
        "    \n",
        "    # Save the model if this epoch produced the best accuracy value on validation set\n",
        "    if accuracy > best_accuracy:\n",
        "      torch.save(net.state_dict(), filename)\n",
        "      nets_best_accuracy[hyperparameter_set] = (epoch, accuracy, filename)\n",
        "      best_accuracy = accuracy\n",
        "\n",
        "  output.clear()\n",
        "\n",
        "# Plot results\n",
        "for hyperparameter_set in hyperparameters_sets:\n",
        "  plot_accuracies_and_losses(accuracies[hyperparameter_set],losses[hyperparameter_set], \n",
        "                             \"LR = \" + hyperparameter_set[0] + \", \" + \n",
        "                             \"STEP_SIZE = \" + hyperparameter_set[1] + \", \" + \n",
        "                             \"NUM_EPOCHS = \" + hyperparameter_set[2])"
      ],
      "execution_count": 0,
      "outputs": []
    },
    {
      "cell_type": "markdown",
      "metadata": {
        "id": "3NL7lgfMmCiL",
        "colab_type": "text"
      },
      "source": [
        "**Freezing of**\n",
        "FC layers and Convolutional Layers"
      ]
    },
    {
      "cell_type": "code",
      "metadata": {
        "id": "vrQYoO5emC1V",
        "colab_type": "code",
        "colab": {}
      },
      "source": [
        "# Restore default parameters\n",
        "DEVICE, NUM_CLASSES, BATCH_SIZE, LR, MOMENTUM, WEIGHT_DECAY, NUM_EPOCHS, STEP_SIZE, GAMMA, LOG_FREQUENCY = load_default_parameters()\n",
        "\n",
        "# Define structures for accuracies and losses\n",
        "losses = []\n",
        "accuracies = []\n",
        "\n",
        "# Prepare Network\n",
        "net = alexnet(pretrained=True)\n",
        "net.classifier[6] = nn.Linear(4096, NUM_CLASSES) \n",
        "\n",
        "# Train only FC layers -> Freeze convolutional Layers\n",
        "for param in net.features.parameters():\n",
        "  param.requires_grad = False\n",
        "  \n",
        "# Prepare Training\n",
        "criterion = nn.CrossEntropyLoss()\n",
        "parameters_to_optimize = net.parameters() \n",
        "optimizer = optim.SGD(parameters_to_optimize, lr=LR, momentum=MOMENTUM, weight_decay=WEIGHT_DECAY)\n",
        "scheduler = optim.lr_scheduler.StepLR(optimizer, step_size=STEP_SIZE, gamma=GAMMA)\n",
        "net = net.to(DEVICE)\n",
        "\n",
        "cudnn.benchmark \n",
        "\n",
        "current_step = 0\n",
        "\n",
        "for epoch in range(NUM_EPOCHS):\n",
        "  print('Starting epoch {}/{}, LR = {}'.format(epoch+1, NUM_EPOCHS, scheduler.get_last_lr()))\n",
        "\n",
        "  for images, labels in train_dataloader:\n",
        "\n",
        "    images = images.to(DEVICE)\n",
        "    labels = labels.to(DEVICE)\n",
        "\n",
        "    net.train()\n",
        "    optimizer.zero_grad()\n",
        "    outputs = net(images)\n",
        "    loss = criterion(outputs, labels)\n",
        "    loss.backward()  \n",
        "    optimizer.step() \n",
        "\n",
        "    current_step += 1\n",
        "\n",
        "  scheduler.step()\n",
        "  \n",
        "  # Evaluate network on validation set, save accuracy and loss\n",
        "  accuracy = evaluate_neural_network_on_validation_set(net) \n",
        "  accuracies.append( (epoch, accuracy) )\n",
        "  losses.append( (epoch, loss.item()))\n",
        "    \n",
        "output.clear()\n",
        "\n",
        "# Plot results\n",
        "plot_accuracies_and_losses(accuracies, losses)\n"
      ],
      "execution_count": 0,
      "outputs": []
    },
    {
      "cell_type": "code",
      "metadata": {
        "id": "_4BIigjSYym4",
        "colab_type": "code",
        "colab": {}
      },
      "source": [
        "# Restore default parameters\n",
        "DEVICE, NUM_CLASSES, BATCH_SIZE, LR, MOMENTUM, WEIGHT_DECAY, NUM_EPOCHS, STEP_SIZE, GAMMA, LOG_FREQUENCY = load_default_parameters()\n",
        "\n",
        "# Define structures for accuracies and losses\n",
        "losses = []\n",
        "accuracies = []\n",
        "\n",
        "# Prepare Network\n",
        "net = alexnet(pretrained=True)\n",
        "\n",
        "# Train only convolutional layers -> Freeze FC layers\n",
        "for param in net.classifier.parameters():\n",
        "  param.requires_grad = False\n",
        "\n",
        "net.classifier[6] = nn.Linear(4096, NUM_CLASSES) \n",
        "  \n",
        "# Prepare Training\n",
        "criterion = nn.CrossEntropyLoss()\n",
        "parameters_to_optimize = net.parameters() \n",
        "optimizer = optim.SGD(parameters_to_optimize, lr=LR, momentum=MOMENTUM, weight_decay=WEIGHT_DECAY)\n",
        "scheduler = optim.lr_scheduler.StepLR(optimizer, step_size=STEP_SIZE, gamma=GAMMA)\n",
        "net = net.to(DEVICE)\n",
        "\n",
        "cudnn.benchmark \n",
        "\n",
        "current_step = 0\n",
        "\n",
        "for epoch in range(NUM_EPOCHS):\n",
        "  print('Starting epoch {}/{}, LR = {}'.format(epoch+1, NUM_EPOCHS, scheduler.get_last_lr()))\n",
        "\n",
        "  for images, labels in train_dataloader:\n",
        "\n",
        "    images = images.to(DEVICE)\n",
        "    labels = labels.to(DEVICE)\n",
        "\n",
        "    net.train()\n",
        "    optimizer.zero_grad()\n",
        "    outputs = net(images)\n",
        "    loss = criterion(outputs, labels)\n",
        "    loss.backward()  \n",
        "    optimizer.step() \n",
        "\n",
        "    current_step += 1\n",
        "\n",
        "  scheduler.step()\n",
        "  \n",
        "  # Evaluate network on validation set, save accuracy and loss\n",
        "  accuracy = evaluate_neural_network_on_validation_set(net) \n",
        "  accuracies.append( (epoch, accuracy) )\n",
        "  losses.append( (epoch, loss.item()))\n",
        "    \n",
        "output.clear()\n",
        "\n",
        "# Plot results\n",
        "plot_accuracies_and_losses(accuracies, losses)\n"
      ],
      "execution_count": 0,
      "outputs": []
    }
  ]
}